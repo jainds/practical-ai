{
 "cells": [
  {
   "cell_type": "markdown",
   "metadata": {},
   "source": [
    "# CVAT Annotation tool"
   ]
  },
  {
   "cell_type": "markdown",
   "metadata": {},
   "source": [
    Why did we need the tool?
Why this tool?
How did we decide this tool? 
What to keep in mind while using this tool? 
How to backup the data in CVAT? 
How to import/export data in CVAT?

I will be covering different aspects that I considered while deciding the annotation tool that will be used by 2500 people in our company. 
1. Ease of Setup
2. Ease of usage
3. Bulk Data Extraction/Upload
4. Types of annotations supported
5. Ability to Scale
6. Backup and Restore
7. Technology stack
8. Community and Documentation

### Ease of Setup


A treat awaits in this section if you have worked with docker compose before, CVAT is very easy to setup as the source code contains necessary docker compose files which makes complete setup a breeze in your local. Repo also features an instruction documentation which is comprehensively written and covers every line of code that needs to be executed in order to get the tool running.  

Complete setup is nicely segregated into docker-compose files with docker apps named cvat,cvat_ui, cvat_db. 
There are two ways to go ahead with setting up the tool, the easier way of deploying it in a VM and a little longer way on Kubernetes. A VM with enough firepower to run an instance of Postgres, Django backend and a react app to support the number of users that you expect to access the tool simultaneously should be alright. An example: I was able to support 200+ users(some of them were automated scripts) in a single VM with the analytics component running using a Standard D5 v2 (16 vcpus, 56 GiB memory) Azure VM. The power of your VM needs to be proportionately increased if you wish to use the additional components like deep learning model based auto labelling. 
If you choose to deploy the tool in Kubernetes, you could benefit from the auto-scaling functionality for each app inside CVAT. Kubernetes YAML files are not available as part of source code and hence you might need to create them yourself. I recommend [Kompose](https://kompose.io) to create Kubrnetes YAML from docker compose files. 

### Ease of Usage

CVAT is developed considering the desktop based user interface, which means we need to keep expectations lower while trying to use it on mobile or tablets. The desktop UI although not fancy, is very feature rich and achieves the goal of labeling images and videos with ease.There's a long list of keyboard shortcuts supported, you don't necessarily need to remember every shortcut, simply pick and choose which help you speed up, I found the shortcut for creating shapes and rectangles for labelling to be very useful. Keyboard shortcuts combined with the feature rich app make labelling task smooth. The application also features a task assignment and task process flow using which larger teams can collaborate by assigning tasks to a specific user and updating the current status of task for others to see. 

### Data Extraction/ Upload


   ]
  },
  {
   "cell_type": "code",
   "execution_count": null,
   "metadata": {},
   "outputs": [],
   "source": []
  }
 ],
 "metadata": {
  "kernelspec": {
   "display_name": "Python 3",
   "language": "python",
   "name": "python3"
  },
  "language_info": {
   "codemirror_mode": {
    "name": "ipython",
    "version": 3
   },
   "file_extension": ".py",
   "mimetype": "text/x-python",
   "name": "python",
   "nbconvert_exporter": "python",
   "pygments_lexer": "ipython3",
   "version": "3.7.6"
  }
 },
 "nbformat": 4,
 "nbformat_minor": 4
}
